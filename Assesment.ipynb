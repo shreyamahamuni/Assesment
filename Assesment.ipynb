{
 "cells": [
  {
   "cell_type": "markdown",
   "id": "ebbcaf0c",
   "metadata": {},
   "source": [
    "### Connect to a PostgreSQL Database from Python \n",
    "* Extracted CSV data into postgreSQL Database using SSIS\n",
    "* To Transfer data from postgreSQL DataBase to python,connected postgreSQL DataBase to python using psycopg2 module\n",
    "\n"
   ]
  },
  {
   "cell_type": "code",
   "execution_count": null,
   "id": "26338afd",
   "metadata": {},
   "outputs": [],
   "source": [
    "!pip install psycopg2 #Install Psycopg2 using the pip command"
   ]
  },
  {
   "cell_type": "code",
   "execution_count": 6,
   "id": "3ba8e18a",
   "metadata": {},
   "outputs": [],
   "source": [
    "import psycopg2 #import psycopg2 module to communicate with the PostgreSQL database."
   ]
  },
  {
   "cell_type": "markdown",
   "id": "890fbc35",
   "metadata": {},
   "source": [
    "#### To Connect to PostgreSQL in Python\n",
    " * Use the cursor() method\n",
    " * Create a cursor object using the connection object returned by the connect method to execute PostgreSQL queries from Python."
   ]
  },
  {
   "cell_type": "code",
   "execution_count": 14,
   "id": "9f9f90ac",
   "metadata": {},
   "outputs": [
    {
     "name": "stdout",
     "output_type": "stream",
     "text": [
      "<connection object at 0x000002A4DA46E040; dsn: 'user=demo password=xxx dbname=mydb host=127.0.0.1 port=5432', closed: 0>\n"
     ]
    }
   ],
   "source": [
    "#connected postgreSQL DataBase to python using psycopg2 module\n",
    "conn = psycopg2.connect(\n",
    "   database=\"mydb\", user='demo', password='Tata@123', host='127.0.0.1', port= '5432'\n",
    ")\n",
    "#Creating a cursor object using the cursor() method\n",
    "cursor = conn.cursor()\n",
    "print(conn)"
   ]
  },
  {
   "cell_type": "code",
   "execution_count": 17,
   "id": "c7796d2f",
   "metadata": {},
   "outputs": [],
   "source": [
    "import warnings \n",
    "warnings.filterwarnings(\"ignore\")"
   ]
  },
  {
   "cell_type": "code",
   "execution_count": 23,
   "id": "0dc070c2",
   "metadata": {},
   "outputs": [],
   "source": [
    "import pandas as pd #importing pandas library"
   ]
  },
  {
   "cell_type": "code",
   "execution_count": 22,
   "id": "1a9aece4",
   "metadata": {},
   "outputs": [
    {
     "name": "stdout",
     "output_type": "stream",
     "text": [
      "      Country_Name Country_Code    Year        Value\n",
      "0       Arab World          ARB  1960.0   92197753.0\n",
      "1       Arab World          ARB  1961.0   94724510.0\n",
      "2       Arab World          ARB  1962.0   97334442.0\n",
      "3       Arab World          ARB  1963.0  100034179.0\n",
      "4       Arab World          ARB  1964.0  102832760.0\n",
      "...            ...          ...     ...          ...\n",
      "15404     Zimbabwe          ZWE  2014.0   13586681.0\n",
      "15405     Zimbabwe          ZWE  2015.0   13814629.0\n",
      "15406     Zimbabwe          ZWE  2016.0   14030390.0\n",
      "15407     Zimbabwe          ZWE  2017.0   14236745.0\n",
      "15408     Zimbabwe          ZWE  2018.0   14439018.0\n",
      "\n",
      "[15409 rows x 4 columns]\n"
     ]
    }
   ],
   "source": [
    "#Reading data using pandas from postgreSQL\n",
    "data=pd.read_sql_query('''select * from data''',conn)\n",
    "print(data)"
   ]
  },
  {
   "cell_type": "markdown",
   "id": "eb00c5f7",
   "metadata": {},
   "source": [
    "##### Create a  table in PostgreSQL Database using Python\n",
    "* created table name “tbl_country”  in PostgreSQL.\n",
    "* which contains column name countryname and countrycode\n",
    "* committing our changes to the database using the commit() method.\n",
    "\n",
    "### 2. Create table- tbl_Country (countryName, countryCode)\n",
    " "
   ]
  },
  {
   "cell_type": "code",
   "execution_count": null,
   "id": "37637a9c",
   "metadata": {},
   "outputs": [],
   "source": [
    "# create table1-tbl_country \n",
    "\n",
    "cursor.execute(\"ROLLBACK\") #undo the changes done in transactions\n",
    "cursor.execute(\"create table tbl_country(countryname varchar(250),countrycode varchar(255))\") #created table\n",
    "conn.commit() #commiting changes in database"
   ]
  },
  {
   "cell_type": "code",
   "execution_count": null,
   "id": "1f6553e0",
   "metadata": {},
   "outputs": [],
   "source": [
    "#Inserted data in table name tbl_country from table name data\n",
    "\n",
    "cursor.execute(\"ROLLBACK\")\n",
    "cursor.execute(\"\"\"INSERT INTO tbl_country (countryname,countrycode)\n",
    "                       SELECT \"Country_Name\",\"Country_Code\"\n",
    "                       FROM data\"\"\")\n",
    "\n",
    "conn.commit()"
   ]
  },
  {
   "cell_type": "code",
   "execution_count": 20,
   "id": "abdaa120",
   "metadata": {},
   "outputs": [
    {
     "data": {
      "text/html": [
       "<div>\n",
       "<style scoped>\n",
       "    .dataframe tbody tr th:only-of-type {\n",
       "        vertical-align: middle;\n",
       "    }\n",
       "\n",
       "    .dataframe tbody tr th {\n",
       "        vertical-align: top;\n",
       "    }\n",
       "\n",
       "    .dataframe thead th {\n",
       "        text-align: right;\n",
       "    }\n",
       "</style>\n",
       "<table border=\"1\" class=\"dataframe\">\n",
       "  <thead>\n",
       "    <tr style=\"text-align: right;\">\n",
       "      <th></th>\n",
       "      <th>countryname</th>\n",
       "      <th>countrycode</th>\n",
       "    </tr>\n",
       "  </thead>\n",
       "  <tbody>\n",
       "    <tr>\n",
       "      <th>0</th>\n",
       "      <td>Arab World</td>\n",
       "      <td>ARB</td>\n",
       "    </tr>\n",
       "    <tr>\n",
       "      <th>1</th>\n",
       "      <td>Arab World</td>\n",
       "      <td>ARB</td>\n",
       "    </tr>\n",
       "    <tr>\n",
       "      <th>2</th>\n",
       "      <td>Arab World</td>\n",
       "      <td>ARB</td>\n",
       "    </tr>\n",
       "    <tr>\n",
       "      <th>3</th>\n",
       "      <td>Arab World</td>\n",
       "      <td>ARB</td>\n",
       "    </tr>\n",
       "    <tr>\n",
       "      <th>4</th>\n",
       "      <td>Arab World</td>\n",
       "      <td>ARB</td>\n",
       "    </tr>\n",
       "    <tr>\n",
       "      <th>...</th>\n",
       "      <td>...</td>\n",
       "      <td>...</td>\n",
       "    </tr>\n",
       "    <tr>\n",
       "      <th>15404</th>\n",
       "      <td>Zimbabwe</td>\n",
       "      <td>ZWE</td>\n",
       "    </tr>\n",
       "    <tr>\n",
       "      <th>15405</th>\n",
       "      <td>Zimbabwe</td>\n",
       "      <td>ZWE</td>\n",
       "    </tr>\n",
       "    <tr>\n",
       "      <th>15406</th>\n",
       "      <td>Zimbabwe</td>\n",
       "      <td>ZWE</td>\n",
       "    </tr>\n",
       "    <tr>\n",
       "      <th>15407</th>\n",
       "      <td>Zimbabwe</td>\n",
       "      <td>ZWE</td>\n",
       "    </tr>\n",
       "    <tr>\n",
       "      <th>15408</th>\n",
       "      <td>Zimbabwe</td>\n",
       "      <td>ZWE</td>\n",
       "    </tr>\n",
       "  </tbody>\n",
       "</table>\n",
       "<p>15409 rows × 2 columns</p>\n",
       "</div>"
      ],
      "text/plain": [
       "      countryname countrycode\n",
       "0      Arab World         ARB\n",
       "1      Arab World         ARB\n",
       "2      Arab World         ARB\n",
       "3      Arab World         ARB\n",
       "4      Arab World         ARB\n",
       "...           ...         ...\n",
       "15404    Zimbabwe         ZWE\n",
       "15405    Zimbabwe         ZWE\n",
       "15406    Zimbabwe         ZWE\n",
       "15407    Zimbabwe         ZWE\n",
       "15408    Zimbabwe         ZWE\n",
       "\n",
       "[15409 rows x 2 columns]"
      ]
     },
     "execution_count": 20,
     "metadata": {},
     "output_type": "execute_result"
    }
   ],
   "source": [
    "#reading table name tbl_country \n",
    "table1=pd.read_sql_query('''\n",
    "                       SELECT * FROM tbl_country \n",
    "                       ''',conn)\n",
    "table1"
   ]
  },
  {
   "cell_type": "markdown",
   "id": "cba5b7e4",
   "metadata": {},
   "source": [
    "### 3. Calculate the percentage increase every year for each country and save into \"tbl_population\" with the fields (countryCode, year, population, percentIncrease)\n",
    "    "
   ]
  },
  {
   "cell_type": "code",
   "execution_count": 12,
   "id": "ebbd1a95",
   "metadata": {},
   "outputs": [],
   "source": [
    "# create table2 -tbl_population contain column names countrycode,year,population,percentIncrease\n",
    "cursor.execute(\"ROLLBACK\")\n",
    "cursor.execute(\"create table tbl_population(countrycode varchar(255), year numeric(90),population numeric(90), percentIncrease float(50))\")\n",
    "conn.commit()"
   ]
  },
  {
   "cell_type": "code",
   "execution_count": 13,
   "id": "a0768bb8",
   "metadata": {},
   "outputs": [],
   "source": [
    "# Calculate the percentage increase every year for each country and save into \"tbl_population\" with the fields (countryCode, year, population, percentIncrease)\n",
    "\n",
    "cursor.execute(\"ROLLBACK\")\n",
    "cursor.execute(\"\"\"INSERT INTO tbl_population(countrycode,year,population,percentIncrease)\n",
    "                  SELECT \"Country_Code\" as countrycode,\"Year\",\"Value\" as population,\n",
    "                  (\"Value\"-LAG(\"Value\") OVER (PARTITION BY \"Country_Code\"\n",
    "                   ORDER BY \"Year\" ASC))/LAG (\"Value\") OVER (PARTITION BY \"Country_Code\" \n",
    "                    ORDER BY \"Year\" ASC)*100 AS percentIncrease\n",
    "                        FROM data\"\"\")\n",
    "\n"
   ]
  },
  {
   "cell_type": "code",
   "execution_count": 24,
   "id": "a257514c",
   "metadata": {
    "scrolled": true
   },
   "outputs": [
    {
     "data": {
      "text/html": [
       "<div>\n",
       "<style scoped>\n",
       "    .dataframe tbody tr th:only-of-type {\n",
       "        vertical-align: middle;\n",
       "    }\n",
       "\n",
       "    .dataframe tbody tr th {\n",
       "        vertical-align: top;\n",
       "    }\n",
       "\n",
       "    .dataframe thead th {\n",
       "        text-align: right;\n",
       "    }\n",
       "</style>\n",
       "<table border=\"1\" class=\"dataframe\">\n",
       "  <thead>\n",
       "    <tr style=\"text-align: right;\">\n",
       "      <th></th>\n",
       "      <th>countrycode</th>\n",
       "      <th>year</th>\n",
       "      <th>population</th>\n",
       "      <th>percentincrease</th>\n",
       "    </tr>\n",
       "  </thead>\n",
       "  <tbody>\n",
       "    <tr>\n",
       "      <th>0</th>\n",
       "      <td>ABW</td>\n",
       "      <td>1960.0</td>\n",
       "      <td>54211.0</td>\n",
       "      <td>NaN</td>\n",
       "    </tr>\n",
       "    <tr>\n",
       "      <th>1</th>\n",
       "      <td>ABW</td>\n",
       "      <td>1961.0</td>\n",
       "      <td>55438.0</td>\n",
       "      <td>2.263378</td>\n",
       "    </tr>\n",
       "    <tr>\n",
       "      <th>2</th>\n",
       "      <td>ABW</td>\n",
       "      <td>1962.0</td>\n",
       "      <td>56225.0</td>\n",
       "      <td>1.419604</td>\n",
       "    </tr>\n",
       "    <tr>\n",
       "      <th>3</th>\n",
       "      <td>ABW</td>\n",
       "      <td>1963.0</td>\n",
       "      <td>56695.0</td>\n",
       "      <td>0.835927</td>\n",
       "    </tr>\n",
       "    <tr>\n",
       "      <th>4</th>\n",
       "      <td>ABW</td>\n",
       "      <td>1964.0</td>\n",
       "      <td>57032.0</td>\n",
       "      <td>0.594409</td>\n",
       "    </tr>\n",
       "    <tr>\n",
       "      <th>...</th>\n",
       "      <td>...</td>\n",
       "      <td>...</td>\n",
       "      <td>...</td>\n",
       "      <td>...</td>\n",
       "    </tr>\n",
       "    <tr>\n",
       "      <th>15404</th>\n",
       "      <td>ZWE</td>\n",
       "      <td>2014.0</td>\n",
       "      <td>13586681.0</td>\n",
       "      <td>1.770178</td>\n",
       "    </tr>\n",
       "    <tr>\n",
       "      <th>15405</th>\n",
       "      <td>ZWE</td>\n",
       "      <td>2015.0</td>\n",
       "      <td>13814629.0</td>\n",
       "      <td>1.677731</td>\n",
       "    </tr>\n",
       "    <tr>\n",
       "      <th>15406</th>\n",
       "      <td>ZWE</td>\n",
       "      <td>2016.0</td>\n",
       "      <td>14030390.0</td>\n",
       "      <td>1.561830</td>\n",
       "    </tr>\n",
       "    <tr>\n",
       "      <th>15407</th>\n",
       "      <td>ZWE</td>\n",
       "      <td>2017.0</td>\n",
       "      <td>14236745.0</td>\n",
       "      <td>1.470772</td>\n",
       "    </tr>\n",
       "    <tr>\n",
       "      <th>15408</th>\n",
       "      <td>ZWE</td>\n",
       "      <td>2018.0</td>\n",
       "      <td>14439018.0</td>\n",
       "      <td>1.420781</td>\n",
       "    </tr>\n",
       "  </tbody>\n",
       "</table>\n",
       "<p>15409 rows × 4 columns</p>\n",
       "</div>"
      ],
      "text/plain": [
       "      countrycode    year  population  percentincrease\n",
       "0             ABW  1960.0     54211.0              NaN\n",
       "1             ABW  1961.0     55438.0         2.263378\n",
       "2             ABW  1962.0     56225.0         1.419604\n",
       "3             ABW  1963.0     56695.0         0.835927\n",
       "4             ABW  1964.0     57032.0         0.594409\n",
       "...           ...     ...         ...              ...\n",
       "15404         ZWE  2014.0  13586681.0         1.770178\n",
       "15405         ZWE  2015.0  13814629.0         1.677731\n",
       "15406         ZWE  2016.0  14030390.0         1.561830\n",
       "15407         ZWE  2017.0  14236745.0         1.470772\n",
       "15408         ZWE  2018.0  14439018.0         1.420781\n",
       "\n",
       "[15409 rows x 4 columns]"
      ]
     },
     "execution_count": 24,
     "metadata": {},
     "output_type": "execute_result"
    }
   ],
   "source": [
    "#Reading table name tbl_population \n",
    "#Here 4th column shows calculated percentage increase every year for each country and save into \"tbl_population table\n",
    "table2=pd.read_sql_query('''\n",
    "                       SELECT * FROM tbl_population\n",
    "                       ''',conn)\n",
    "table2"
   ]
  },
  {
   "cell_type": "markdown",
   "id": "3fd50ee7",
   "metadata": {},
   "source": [
    "### 1.The data transfer contain log file created with the number of records transferred to each table."
   ]
  },
  {
   "cell_type": "code",
   "execution_count": 30,
   "id": "58db2336",
   "metadata": {},
   "outputs": [
    {
     "name": "stdout",
     "output_type": "stream",
     "text": [
      "                           Event   computer                   operator  \\\n",
      "0                  OnPreValidate  NWLT22122  AzureAD\\sankalpnaMahamuni   \n",
      "1                  OnInformation  NWLT22122  AzureAD\\sankalpnaMahamuni   \n",
      "2                                                                        \n",
      "3                      OnWarning  NWLT22122  AzureAD\\sankalpnaMahamuni   \n",
      "4                                                                        \n",
      "..                           ...        ...                        ...   \n",
      "476  OnPipelinePostComponentCall  NWLT22122  AzureAD\\sankalpnaMahamuni   \n",
      "477  OnPipelinePostComponentCall  NWLT22122  AzureAD\\sankalpnaMahamuni   \n",
      "478                OnPostExecute  NWLT22122  AzureAD\\sankalpnaMahamuni   \n",
      "479                   PackageEnd  NWLT22122  AzureAD\\sankalpnaMahamuni   \n",
      "480                                                                      \n",
      "\n",
      "             source                                sourceid  \\\n",
      "0    Data Flow Task  {1473D0FB-8D46-4051-999E-541AF418B488}   \n",
      "1    Data Flow Task  {1473D0FB-8D46-4051-999E-541AF418B488}   \n",
      "2                                                             \n",
      "3    Data Flow Task  {1473D0FB-8D46-4051-999E-541AF418B488}   \n",
      "4                                                             \n",
      "..              ...                                     ...   \n",
      "476  Data Flow Task  {1473D0FB-8D46-4051-999E-541AF418B488}   \n",
      "477  Data Flow Task  {1473D0FB-8D46-4051-999E-541AF418B488}   \n",
      "478        Package5  {3B26AA33-C6D4-4CDF-B0B6-C76F2AB856DA}   \n",
      "479        Package5  {3B26AA33-C6D4-4CDF-B0B6-C76F2AB856DA}   \n",
      "480                                                           \n",
      "\n",
      "                                executionid            starttime  \\\n",
      "0    {6F7081AA-0711-4FB0-85F6-EAE128E26276}  09-10-2022 01:32:07   \n",
      "1    {6F7081AA-0711-4FB0-85F6-EAE128E26276}  09-10-2022 01:32:07   \n",
      "2                                                                  \n",
      "3    {6F7081AA-0711-4FB0-85F6-EAE128E26276}  09-10-2022 01:32:07   \n",
      "4                                                                  \n",
      "..                                      ...                  ...   \n",
      "476  {8AE50463-762C-4A7D-818D-0D27E8553DB2}  09-10-2022 12:04:29   \n",
      "477  {8AE50463-762C-4A7D-818D-0D27E8553DB2}  09-10-2022 12:04:29   \n",
      "478  {8AE50463-762C-4A7D-818D-0D27E8553DB2}  09-10-2022 12:04:29   \n",
      "479  {8AE50463-762C-4A7D-818D-0D27E8553DB2}  09-10-2022 12:04:29   \n",
      "480                                                                \n",
      "\n",
      "                 endtime     datacode databytes  \\\n",
      "0    09-10-2022 01:32:07            0        0x   \n",
      "1    09-10-2022 01:32:07   1074016266        0x   \n",
      "2                                                 \n",
      "3    09-10-2022 01:32:07  -2147192632        0x   \n",
      "4                                                 \n",
      "..                   ...          ...       ...   \n",
      "476  09-10-2022 12:04:29            0        0x   \n",
      "477  09-10-2022 12:04:29            0        0x   \n",
      "478  09-10-2022 12:04:29            0        0x   \n",
      "479  09-10-2022 12:04:29            0        0x   \n",
      "480                                               \n",
      "\n",
      "                                               message  \n",
      "0                                                       \n",
      "1                       Validation phase is beginning.  \n",
      "2                                                       \n",
      "3    The external columns for Flat File Source are ...  \n",
      "4                                                       \n",
      "..                                                 ...  \n",
      "476  Data flow engine has finished a call to a comp...  \n",
      "477  Data flow engine has finished a call to a comp...  \n",
      "478                                                     \n",
      "479                          End of package execution.  \n",
      "480                                                     \n",
      "\n",
      "[481 rows x 11 columns]\n"
     ]
    }
   ],
   "source": [
    "#while data transfering log file generated and that log file extracted into postgreSQL DataBase using SSIS and store that log file in table name tbl_logfile\n",
    "log_file=pd.read_sql_query('''\n",
    "                       select *\n",
    "                              from tbl_logfile;\n",
    "                       ''',conn)\n",
    "print(log_file)"
   ]
  },
  {
   "cell_type": "code",
   "execution_count": null,
   "id": "1fc3bf9d",
   "metadata": {},
   "outputs": [],
   "source": []
  }
 ],
 "metadata": {
  "kernelspec": {
   "display_name": "Python 3 (ipykernel)",
   "language": "python",
   "name": "python3"
  },
  "language_info": {
   "codemirror_mode": {
    "name": "ipython",
    "version": 3
   },
   "file_extension": ".py",
   "mimetype": "text/x-python",
   "name": "python",
   "nbconvert_exporter": "python",
   "pygments_lexer": "ipython3",
   "version": "3.9.12"
  }
 },
 "nbformat": 4,
 "nbformat_minor": 5
}
